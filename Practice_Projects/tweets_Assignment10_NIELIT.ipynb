{
 "cells": [
  {
   "cell_type": "markdown",
   "metadata": {},
   "source": [
    "## 1. Capture the semantics of latest 20 tweets of any friend / user and perform a cluster analysis around it"
   ]
  },
  {
   "cell_type": "code",
   "execution_count": 25,
   "metadata": {},
   "outputs": [],
   "source": [
    "import tweepy\n",
    "from tweepy import Stream\n",
    "from tweepy import StreamListener\n",
    "import json\n",
    "import pandas as pd\n",
    "import re\n",
    "from textblob import TextBlob"
   ]
  },
  {
   "cell_type": "code",
   "execution_count": 26,
   "metadata": {},
   "outputs": [],
   "source": [
    "consumer_key = \"Y6VihTInqcxj6ee8ZFPHCKDfJ\"\n",
    "consumer_secret = \"OcN1l4pAOUiHK0mhWKNnzFvLf41bGKxq83rX0R6uStbCMNCANg\"\n",
    "access_token = \"1304687571033714689-l4j2KRSAuqD3YX2bMMx4JBWqXEB4VE\"\n",
    "access_token_secret = \"r9RNXe4PHJu70PjrTloXG6QZVgn1T526tHesNcUWXnR5w\"\n",
    "auth = tweepy.OAuthHandler(consumer_key, consumer_secret)\n",
    "auth.set_access_token(access_token, access_token_secret)\n"
   ]
  },
  {
   "cell_type": "code",
   "execution_count": 27,
   "metadata": {},
   "outputs": [],
   "source": [
    "api=tweepy.API(auth)"
   ]
  },
  {
   "cell_type": "code",
   "execution_count": 28,
   "metadata": {},
   "outputs": [
    {
     "name": "stdout",
     "output_type": "stream",
     "text": [
      "Google\n"
     ]
    }
   ],
   "source": [
    "user=api.get_user('@Google')\n",
    "print(user.screen_name)"
   ]
  },
  {
   "cell_type": "code",
   "execution_count": 29,
   "metadata": {},
   "outputs": [],
   "source": [
    "username = 'Google'\n",
    "count = 20\n",
    "tweet=[]\n",
    "try:     \n",
    " # Creation of query method using parameters\n",
    " tweets = tweepy.Cursor(api.user_timeline,id=username).items(count)\n",
    " \n",
    " # Pulling information from tweets iterable object\n",
    " tweets_list = [[tweet.text] for tweet in tweets]\n",
    "\n",
    "\n",
    "except BaseException as e:\n",
    "      print('failed on_status,',str(e))\n",
    "    "
   ]
  },
  {
   "cell_type": "code",
   "execution_count": 30,
   "metadata": {},
   "outputs": [
    {
     "data": {
      "text/plain": [
       "['@cptnearlysquirt Hi Earl. Are you getting a specific error message when you try signing into your Google account? W… https://t.co/nmxaWX4D6O',\n",
       " \"@KiranKu28433234 Hmm. Let's see what we can do to help. Please follow us and let us know when you have so we can sh… https://t.co/eJEw4ei2Q7\",\n",
       " '@KURT1SC0NN3R Hi there. Just to confirm, are you still able to sign into your Google account? Let us know.',\n",
       " \"@AbuIbrahim2030 Hmm. We'd like to hear more before moving to DM. Without revealing your email address, could you gi… https://t.co/Jt59NtxwGM\",\n",
       " '@MohdAfzal250195 Hi Afzal. Have you already tried recovering your account by completing the steps here:… https://t.co/6XlPHMqqx9',\n",
       " \"@FarmanA96334403 Hi Farman. Let's see what we can do to help. Please follow us and let us know when you have so we… https://t.co/z3Lr1iRdOg\",\n",
       " '“The science is clear: The world must act now.” CEO @SundarPichai details how we’re working toward a carbon-free fu… https://t.co/8sZWr7eyGV',\n",
       " \"@KeepitDope__Dee You're welcome. Could you confirm if you're able to sign into your account now?\",\n",
       " \"@Manjeet40741833 Hi Manjeet. Let's see what we can do to help. Look out for a DM with next steps.\",\n",
       " \"@Abdulla55575303 Hi Abdulla. Let's see what we can do to help. Look out for a DM with next steps.\",\n",
       " \"@VedantD1045 You're welcome. Feel free to reach out if you have any other Google account questions in the future.\",\n",
       " \"@DrSteveHajioff Hmm. Let's see what we can do to help. Please follow us and let us know when you have so we can share next steps through DM.\",\n",
       " \"@RohitHa26174879 Hi Rohit. Let's see what we can do to help. Please follow us and let us know when you have so we c… https://t.co/WcDm9TFXmO\",\n",
       " '@priyanshtr Hi there. Just to confirm, did you try resetting your password by completing the steps on this page:… https://t.co/MNLT4ShRSY',\n",
       " \"@manish01353602 Hi Manish. Let's see what we can do to help. Look out for a DM with next steps.\",\n",
       " '@DevinDeSouza Hmm. Have you already tried recovering your account by completing the steps here:… https://t.co/4kKWTGclbA',\n",
       " \"@devforyou Mind if we jump in, Debilal? Try these tips if you're unable to receive your 2-Step Verification code:… https://t.co/n2urrkAyoR\",\n",
       " \"@DigitalCoffeeYT Hmm. Let's see what we can do to help. Please follow us and let us know when you have so we can sh… https://t.co/Y0FpklOnBA\",\n",
       " \"@BvtAxel Hmm. Let's see what we can do to help. Look out for a DM with next steps.\",\n",
       " \"@tarund Hmm. Let's see what we can do to help. Look out for a DM with next steps.\"]"
      ]
     },
     "execution_count": 30,
     "metadata": {},
     "output_type": "execute_result"
    }
   ],
   "source": [
    "\n",
    "final_list = []\n",
    "for sub_list in tweets_list:\n",
    "    final_list.append(sub_list[0])\n",
    "    \n",
    "final_list"
   ]
  },
  {
   "cell_type": "code",
   "execution_count": 31,
   "metadata": {},
   "outputs": [],
   "source": [
    "def clean_tweet(data):\n",
    "    results=[]\n",
    "    for i in data:\n",
    "        result=re.sub(r'(@[A-Za-z0-9]+)|([^0-9A-Za-z \\t])|(\\w+:\\/\\/\\S+)','',i) \n",
    "        results.append(result)\n",
    "    return results\n",
    "\n",
    "clean=clean_tweet(final_list)"
   ]
  },
  {
   "cell_type": "code",
   "execution_count": 32,
   "metadata": {},
   "outputs": [
    {
     "data": {
      "text/plain": [
       "[' Hi Earl Are you getting a specific error message when you try signing into your Google account W ',\n",
       " ' Hmm Lets see what we can do to help Please follow us and let us know when you have so we can sh ',\n",
       " ' Hi there Just to confirm are you still able to sign into your Google account Let us know',\n",
       " ' Hmm Wed like to hear more before moving to DM Without revealing your email address could you gi ',\n",
       " ' Hi Afzal Have you already tried recovering your account by completing the steps here ',\n",
       " ' Hi Farman Lets see what we can do to help Please follow us and let us know when you have so we ',\n",
       " 'The science is clear The world must act now CEO  details how were working toward a carbonfree fu ',\n",
       " 'Dee Youre welcome Could you confirm if youre able to sign into your account now',\n",
       " ' Hi Manjeet Lets see what we can do to help Look out for a DM with next steps',\n",
       " ' Hi Abdulla Lets see what we can do to help Look out for a DM with next steps',\n",
       " ' Youre welcome Feel free to reach out if you have any other Google account questions in the future',\n",
       " ' Hmm Lets see what we can do to help Please follow us and let us know when you have so we can share next steps through DM',\n",
       " ' Hi Rohit Lets see what we can do to help Please follow us and let us know when you have so we c ',\n",
       " ' Hi there Just to confirm did you try resetting your password by completing the steps on this page ',\n",
       " ' Hi Manish Lets see what we can do to help Look out for a DM with next steps',\n",
       " ' Hmm Have you already tried recovering your account by completing the steps here ',\n",
       " ' Mind if we jump in Debilal Try these tips if youre unable to receive your 2Step Verification code ',\n",
       " ' Hmm Lets see what we can do to help Please follow us and let us know when you have so we can sh ',\n",
       " ' Hmm Lets see what we can do to help Look out for a DM with next steps',\n",
       " ' Hmm Lets see what we can do to help Look out for a DM with next steps']"
      ]
     },
     "execution_count": 32,
     "metadata": {},
     "output_type": "execute_result"
    }
   ],
   "source": [
    "clean"
   ]
  },
  {
   "cell_type": "code",
   "execution_count": 33,
   "metadata": {},
   "outputs": [],
   "source": [
    "from sklearn.cluster import KMeans\n",
    "from sklearn.feature_extraction.text import TfidfVectorizer"
   ]
  },
  {
   "cell_type": "code",
   "execution_count": 34,
   "metadata": {},
   "outputs": [],
   "source": [
    "tweet=clean\n",
    "tfidf=TfidfVectorizer(stop_words='english')\n",
    "\n",
    "matrix=tfidf.fit_transform(tweet)"
   ]
  },
  {
   "cell_type": "code",
   "execution_count": 35,
   "metadata": {},
   "outputs": [],
   "source": [
    "kmeans=KMeans(n_clusters=5)\n",
    "kmeans.fit(matrix)\n",
    "labels=kmeans.labels_"
   ]
  },
  {
   "cell_type": "code",
   "execution_count": 36,
   "metadata": {},
   "outputs": [
    {
     "name": "stdout",
     "output_type": "stream",
     "text": [
      " Hi Earl Are you getting a specific error message when you try signing into your Google account W  belongs to cluster 0\n",
      " Hmm Lets see what we can do to help Please follow us and let us know when you have so we can sh  belongs to cluster 1\n",
      " Hi there Just to confirm are you still able to sign into your Google account Let us know belongs to cluster 2\n",
      " Hmm Wed like to hear more before moving to DM Without revealing your email address could you gi  belongs to cluster 3\n",
      " Hi Afzal Have you already tried recovering your account by completing the steps here  belongs to cluster 0\n",
      " Hi Farman Lets see what we can do to help Please follow us and let us know when you have so we  belongs to cluster 1\n",
      "The science is clear The world must act now CEO  details how were working toward a carbonfree fu  belongs to cluster 4\n",
      "Dee Youre welcome Could you confirm if youre able to sign into your account now belongs to cluster 2\n",
      " Hi Manjeet Lets see what we can do to help Look out for a DM with next steps belongs to cluster 3\n",
      " Hi Abdulla Lets see what we can do to help Look out for a DM with next steps belongs to cluster 3\n",
      " Youre welcome Feel free to reach out if you have any other Google account questions in the future belongs to cluster 2\n",
      " Hmm Lets see what we can do to help Please follow us and let us know when you have so we can share next steps through DM belongs to cluster 1\n",
      " Hi Rohit Lets see what we can do to help Please follow us and let us know when you have so we c  belongs to cluster 1\n",
      " Hi there Just to confirm did you try resetting your password by completing the steps on this page  belongs to cluster 0\n",
      " Hi Manish Lets see what we can do to help Look out for a DM with next steps belongs to cluster 3\n",
      " Hmm Have you already tried recovering your account by completing the steps here  belongs to cluster 0\n",
      " Mind if we jump in Debilal Try these tips if youre unable to receive your 2Step Verification code  belongs to cluster 2\n",
      " Hmm Lets see what we can do to help Please follow us and let us know when you have so we can sh  belongs to cluster 1\n",
      " Hmm Lets see what we can do to help Look out for a DM with next steps belongs to cluster 3\n",
      " Hmm Lets see what we can do to help Look out for a DM with next steps belongs to cluster 3\n"
     ]
    }
   ],
   "source": [
    "for i in range(len(labels)):\n",
    "    print(str(tweet[i])+\" belongs to cluster \"+ str(labels[i]))"
   ]
  },
  {
   "cell_type": "code",
   "execution_count": null,
   "metadata": {},
   "outputs": [],
   "source": []
  },
  {
   "cell_type": "code",
   "execution_count": null,
   "metadata": {},
   "outputs": [],
   "source": []
  },
  {
   "cell_type": "markdown",
   "metadata": {},
   "source": [
    "## 2. Classify any 5 headlines from any news agency of your choice (NDTV/ Indian Express) taken from twitter / any website .\n"
   ]
  },
  {
   "cell_type": "code",
   "execution_count": 37,
   "metadata": {},
   "outputs": [],
   "source": [
    "username = 'NDTV'\n",
    "count = 5\n",
    "try:     \n",
    " # Creation of query method using parameters\n",
    " tweets = tweepy.Cursor(api.user_timeline,id=username).items(count)\n",
    " \n",
    " # Pulling information from tweets iterable object\n",
    " tweets_list2 = [[tweet.text] for tweet in tweets]\n",
    " # Creation of dataframe from tweets list\n",
    " # Add or remove columns as you remove tweet information\n",
    " tweets_df2 = pd.DataFrame(tweets_list)\n",
    "\n",
    "except BaseException as e:\n",
    "      print('failed on_status,',str(e))"
   ]
  },
  {
   "cell_type": "code",
   "execution_count": 39,
   "metadata": {},
   "outputs": [
    {
     "data": {
      "text/html": [
       "<div>\n",
       "<style scoped>\n",
       "    .dataframe tbody tr th:only-of-type {\n",
       "        vertical-align: middle;\n",
       "    }\n",
       "\n",
       "    .dataframe tbody tr th {\n",
       "        vertical-align: top;\n",
       "    }\n",
       "\n",
       "    .dataframe thead th {\n",
       "        text-align: right;\n",
       "    }\n",
       "</style>\n",
       "<table border=\"1\" class=\"dataframe\">\n",
       "  <thead>\n",
       "    <tr style=\"text-align: right;\">\n",
       "      <th></th>\n",
       "      <th>0</th>\n",
       "    </tr>\n",
       "  </thead>\n",
       "  <tbody>\n",
       "    <tr>\n",
       "      <th>0</th>\n",
       "      <td>@cptnearlysquirt Hi Earl. Are you getting a sp...</td>\n",
       "    </tr>\n",
       "    <tr>\n",
       "      <th>1</th>\n",
       "      <td>@KiranKu28433234 Hmm. Let's see what we can do...</td>\n",
       "    </tr>\n",
       "    <tr>\n",
       "      <th>2</th>\n",
       "      <td>@KURT1SC0NN3R Hi there. Just to confirm, are y...</td>\n",
       "    </tr>\n",
       "    <tr>\n",
       "      <th>3</th>\n",
       "      <td>@AbuIbrahim2030 Hmm. We'd like to hear more be...</td>\n",
       "    </tr>\n",
       "    <tr>\n",
       "      <th>4</th>\n",
       "      <td>@MohdAfzal250195 Hi Afzal. Have you already tr...</td>\n",
       "    </tr>\n",
       "    <tr>\n",
       "      <th>5</th>\n",
       "      <td>@FarmanA96334403 Hi Farman. Let's see what we ...</td>\n",
       "    </tr>\n",
       "    <tr>\n",
       "      <th>6</th>\n",
       "      <td>“The science is clear: The world must act now....</td>\n",
       "    </tr>\n",
       "    <tr>\n",
       "      <th>7</th>\n",
       "      <td>@KeepitDope__Dee You're welcome. Could you con...</td>\n",
       "    </tr>\n",
       "    <tr>\n",
       "      <th>8</th>\n",
       "      <td>@Manjeet40741833 Hi Manjeet. Let's see what we...</td>\n",
       "    </tr>\n",
       "    <tr>\n",
       "      <th>9</th>\n",
       "      <td>@Abdulla55575303 Hi Abdulla. Let's see what we...</td>\n",
       "    </tr>\n",
       "    <tr>\n",
       "      <th>10</th>\n",
       "      <td>@VedantD1045 You're welcome. Feel free to reac...</td>\n",
       "    </tr>\n",
       "    <tr>\n",
       "      <th>11</th>\n",
       "      <td>@DrSteveHajioff Hmm. Let's see what we can do ...</td>\n",
       "    </tr>\n",
       "    <tr>\n",
       "      <th>12</th>\n",
       "      <td>@RohitHa26174879 Hi Rohit. Let's see what we c...</td>\n",
       "    </tr>\n",
       "    <tr>\n",
       "      <th>13</th>\n",
       "      <td>@priyanshtr Hi there. Just to confirm, did you...</td>\n",
       "    </tr>\n",
       "    <tr>\n",
       "      <th>14</th>\n",
       "      <td>@manish01353602 Hi Manish. Let's see what we c...</td>\n",
       "    </tr>\n",
       "    <tr>\n",
       "      <th>15</th>\n",
       "      <td>@DevinDeSouza Hmm. Have you already tried reco...</td>\n",
       "    </tr>\n",
       "    <tr>\n",
       "      <th>16</th>\n",
       "      <td>@devforyou Mind if we jump in, Debilal? Try th...</td>\n",
       "    </tr>\n",
       "    <tr>\n",
       "      <th>17</th>\n",
       "      <td>@DigitalCoffeeYT Hmm. Let's see what we can do...</td>\n",
       "    </tr>\n",
       "    <tr>\n",
       "      <th>18</th>\n",
       "      <td>@BvtAxel Hmm. Let's see what we can do to help...</td>\n",
       "    </tr>\n",
       "    <tr>\n",
       "      <th>19</th>\n",
       "      <td>@tarund Hmm. Let's see what we can do to help....</td>\n",
       "    </tr>\n",
       "  </tbody>\n",
       "</table>\n",
       "</div>"
      ],
      "text/plain": [
       "                                                    0\n",
       "0   @cptnearlysquirt Hi Earl. Are you getting a sp...\n",
       "1   @KiranKu28433234 Hmm. Let's see what we can do...\n",
       "2   @KURT1SC0NN3R Hi there. Just to confirm, are y...\n",
       "3   @AbuIbrahim2030 Hmm. We'd like to hear more be...\n",
       "4   @MohdAfzal250195 Hi Afzal. Have you already tr...\n",
       "5   @FarmanA96334403 Hi Farman. Let's see what we ...\n",
       "6   “The science is clear: The world must act now....\n",
       "7   @KeepitDope__Dee You're welcome. Could you con...\n",
       "8   @Manjeet40741833 Hi Manjeet. Let's see what we...\n",
       "9   @Abdulla55575303 Hi Abdulla. Let's see what we...\n",
       "10  @VedantD1045 You're welcome. Feel free to reac...\n",
       "11  @DrSteveHajioff Hmm. Let's see what we can do ...\n",
       "12  @RohitHa26174879 Hi Rohit. Let's see what we c...\n",
       "13  @priyanshtr Hi there. Just to confirm, did you...\n",
       "14  @manish01353602 Hi Manish. Let's see what we c...\n",
       "15  @DevinDeSouza Hmm. Have you already tried reco...\n",
       "16  @devforyou Mind if we jump in, Debilal? Try th...\n",
       "17  @DigitalCoffeeYT Hmm. Let's see what we can do...\n",
       "18  @BvtAxel Hmm. Let's see what we can do to help...\n",
       "19  @tarund Hmm. Let's see what we can do to help...."
      ]
     },
     "execution_count": 39,
     "metadata": {},
     "output_type": "execute_result"
    }
   ],
   "source": [
    "tweets_df2"
   ]
  },
  {
   "cell_type": "code",
   "execution_count": 40,
   "metadata": {},
   "outputs": [
    {
     "data": {
      "text/plain": [
       "['Government\\'s 3 \"Black\" Ordinances Deadly Attack On Farmers\\' Rights: Rahul Gandhi https://t.co/YC9DxpARTL https://t.co/8uGoX2ubDb',\n",
       " 'Kangana Ranaut Should Shift If She Thinks Mumbai Is PoK: Shiv Sena Minister https://t.co/mW19fBAqgQ https://t.co/i6RCyMwN8q',\n",
       " \"Thai Woman Arrested For Friend's Murder In Surat, CCTV Helped Cops: Police https://t.co/cqBEpSCEIv https://t.co/n0MCWKHCrp\",\n",
       " 'Custody Of Kannada Actor Ragini Dwivedi, 7 Others Extended In Drugs Case https://t.co/LCfR61xQsx https://t.co/gpIxBqF5EI',\n",
       " 'RT @Sports_NDTV: With the #IndianPremierLeague (IPL) set to begin on September 19, #KingsXIPunjab fielding coach #JontyRhodes relived his l…']"
      ]
     },
     "execution_count": 40,
     "metadata": {},
     "output_type": "execute_result"
    }
   ],
   "source": [
    "final_list2 = []\n",
    "for sub_list in tweets_list2:\n",
    "    final_list2.append(sub_list[0])\n",
    "    \n",
    "final_list2"
   ]
  },
  {
   "cell_type": "code",
   "execution_count": 41,
   "metadata": {},
   "outputs": [],
   "source": [
    "def clean_tweet(data):\n",
    "    results=[]\n",
    "    for i in data:\n",
    "        result=re.sub(r'(@[A-Za-z0-9]+)|([^0-9A-Za-z \\t])|(\\w+:\\/\\/\\S+)|(RT)','',i) \n",
    "        results.append(result)\n",
    "    return results\n",
    "\n",
    "clean2=clean_tweet(final_list2)"
   ]
  },
  {
   "cell_type": "code",
   "execution_count": 42,
   "metadata": {},
   "outputs": [
    {
     "data": {
      "text/plain": [
       "'Governments 3 Black Ordinances Deadly Attack On Farmers Rights Rahul Gandhi  '"
      ]
     },
     "execution_count": 42,
     "metadata": {},
     "output_type": "execute_result"
    }
   ],
   "source": [
    "clean2[0]"
   ]
  },
  {
   "cell_type": "code",
   "execution_count": 43,
   "metadata": {},
   "outputs": [],
   "source": [
    "df = pd.DataFrame({'Headline':clean2})"
   ]
  },
  {
   "cell_type": "code",
   "execution_count": 44,
   "metadata": {},
   "outputs": [
    {
     "data": {
      "text/html": [
       "<div>\n",
       "<style scoped>\n",
       "    .dataframe tbody tr th:only-of-type {\n",
       "        vertical-align: middle;\n",
       "    }\n",
       "\n",
       "    .dataframe tbody tr th {\n",
       "        vertical-align: top;\n",
       "    }\n",
       "\n",
       "    .dataframe thead th {\n",
       "        text-align: right;\n",
       "    }\n",
       "</style>\n",
       "<table border=\"1\" class=\"dataframe\">\n",
       "  <thead>\n",
       "    <tr style=\"text-align: right;\">\n",
       "      <th></th>\n",
       "      <th>Headline</th>\n",
       "    </tr>\n",
       "  </thead>\n",
       "  <tbody>\n",
       "    <tr>\n",
       "      <th>0</th>\n",
       "      <td>Governments 3 Black Ordinances Deadly Attack O...</td>\n",
       "    </tr>\n",
       "    <tr>\n",
       "      <th>1</th>\n",
       "      <td>Kangana Ranaut Should Shift If She Thinks Mumb...</td>\n",
       "    </tr>\n",
       "    <tr>\n",
       "      <th>2</th>\n",
       "      <td>Thai Woman Arrested For Friends Murder In Sura...</td>\n",
       "    </tr>\n",
       "    <tr>\n",
       "      <th>3</th>\n",
       "      <td>Custody Of Kannada Actor Ragini Dwivedi 7 Othe...</td>\n",
       "    </tr>\n",
       "    <tr>\n",
       "      <th>4</th>\n",
       "      <td>NDTV With the IndianPremierLeague IPL set to ...</td>\n",
       "    </tr>\n",
       "  </tbody>\n",
       "</table>\n",
       "</div>"
      ],
      "text/plain": [
       "                                            Headline\n",
       "0  Governments 3 Black Ordinances Deadly Attack O...\n",
       "1  Kangana Ranaut Should Shift If She Thinks Mumb...\n",
       "2  Thai Woman Arrested For Friends Murder In Sura...\n",
       "3  Custody Of Kannada Actor Ragini Dwivedi 7 Othe...\n",
       "4   NDTV With the IndianPremierLeague IPL set to ..."
      ]
     },
     "execution_count": 44,
     "metadata": {},
     "output_type": "execute_result"
    }
   ],
   "source": [
    "df"
   ]
  },
  {
   "cell_type": "code",
   "execution_count": 45,
   "metadata": {},
   "outputs": [],
   "source": [
    "df['sentiment'] = df['Headline'].apply(lambda tweet: TextBlob(tweet).sentiment.polarity)"
   ]
  },
  {
   "cell_type": "code",
   "execution_count": 46,
   "metadata": {},
   "outputs": [
    {
     "data": {
      "text/html": [
       "<div>\n",
       "<style scoped>\n",
       "    .dataframe tbody tr th:only-of-type {\n",
       "        vertical-align: middle;\n",
       "    }\n",
       "\n",
       "    .dataframe tbody tr th {\n",
       "        vertical-align: top;\n",
       "    }\n",
       "\n",
       "    .dataframe thead th {\n",
       "        text-align: right;\n",
       "    }\n",
       "</style>\n",
       "<table border=\"1\" class=\"dataframe\">\n",
       "  <thead>\n",
       "    <tr style=\"text-align: right;\">\n",
       "      <th></th>\n",
       "      <th>Headline</th>\n",
       "      <th>sentiment</th>\n",
       "    </tr>\n",
       "  </thead>\n",
       "  <tbody>\n",
       "    <tr>\n",
       "      <th>0</th>\n",
       "      <td>Governments 3 Black Ordinances Deadly Attack O...</td>\n",
       "      <td>-0.183333</td>\n",
       "    </tr>\n",
       "    <tr>\n",
       "      <th>1</th>\n",
       "      <td>Kangana Ranaut Should Shift If She Thinks Mumb...</td>\n",
       "      <td>0.000000</td>\n",
       "    </tr>\n",
       "    <tr>\n",
       "      <th>2</th>\n",
       "      <td>Thai Woman Arrested For Friends Murder In Sura...</td>\n",
       "      <td>0.000000</td>\n",
       "    </tr>\n",
       "    <tr>\n",
       "      <th>3</th>\n",
       "      <td>Custody Of Kannada Actor Ragini Dwivedi 7 Othe...</td>\n",
       "      <td>0.000000</td>\n",
       "    </tr>\n",
       "    <tr>\n",
       "      <th>4</th>\n",
       "      <td>NDTV With the IndianPremierLeague IPL set to ...</td>\n",
       "      <td>0.000000</td>\n",
       "    </tr>\n",
       "  </tbody>\n",
       "</table>\n",
       "</div>"
      ],
      "text/plain": [
       "                                            Headline  sentiment\n",
       "0  Governments 3 Black Ordinances Deadly Attack O...  -0.183333\n",
       "1  Kangana Ranaut Should Shift If She Thinks Mumb...   0.000000\n",
       "2  Thai Woman Arrested For Friends Murder In Sura...   0.000000\n",
       "3  Custody Of Kannada Actor Ragini Dwivedi 7 Othe...   0.000000\n",
       "4   NDTV With the IndianPremierLeague IPL set to ...   0.000000"
      ]
     },
     "execution_count": 46,
     "metadata": {},
     "output_type": "execute_result"
    }
   ],
   "source": [
    "df"
   ]
  },
  {
   "cell_type": "code",
   "execution_count": null,
   "metadata": {},
   "outputs": [],
   "source": []
  },
  {
   "cell_type": "markdown",
   "metadata": {},
   "source": [
    "#### Classification based on NaiveBayesClassifier"
   ]
  },
  {
   "cell_type": "code",
   "execution_count": 6,
   "metadata": {},
   "outputs": [],
   "source": [
    "import pandas as pd\n",
    "from textblob import TextBlob\n",
    "from textblob.classifiers import NaiveBayesClassifier\n"
   ]
  },
  {
   "cell_type": "code",
   "execution_count": 7,
   "metadata": {},
   "outputs": [],
   "source": [
    "\n",
    "training_set = [(\"Anushka Sharma on her pregnancy: Nothing is more real and humbling\" ,'entertainment'),\n",
    "                (\"Boeing execs defend safety decisions on 737 MAX development\", 'business'),\n",
    "                (\"Naomi Osaka wins second US Open title with a comeback against Victoria Azarenka\", 'sports'),\n",
    "                (\"Mayawati Requests Centre, States To Waive School Fees Of Children\", 'politics'),\n",
    "                (\"AmazonBasics Appliances, Electronics Flagged as Potentially Dangerous: Report\", 'Tech'),\n",
    "               (\"Chris Hemsworth: Had more fun on Thor 4’s script than Thor Ragnarok\" ,'entertainment'),\n",
    "                (\"Zomato Raises $160 Million From Tiger Global, Temasek Unit\", 'business'),\n",
    "                (\"Mohamed Salah hits hat-trick as Liverpool outgun impressive Leeds United\", 'sports'),\n",
    "                (\"China, India Agree Yet Again To Ease Tension On Himalayan Border\", 'politics'),\n",
    "                (\"Nvidia Said to Near Deal to Buy Chip Designer Arm for More Than $40 Billion\", 'Tech')]\n",
    "\n"
   ]
  },
  {
   "cell_type": "code",
   "execution_count": 8,
   "metadata": {},
   "outputs": [
    {
     "name": "stdout",
     "output_type": "stream",
     "text": [
      "business\n"
     ]
    }
   ],
   "source": [
    "sen1 = \"Industrial Production Contracts 10.4% In July\"\n",
    "\n",
    "Classifier = NaiveBayesClassifier(training_set)\n",
    "print(Classifier.classify(sen1))"
   ]
  },
  {
   "cell_type": "code",
   "execution_count": 9,
   "metadata": {},
   "outputs": [
    {
     "name": "stdout",
     "output_type": "stream",
     "text": [
      "sports\n"
     ]
    }
   ],
   "source": [
    "sen2 = \"A hat-trick by MohamedSalah helped Liverpool beat LeedsUnited 4-3 and start their EnglishPremierLeague defence in fine style\"\n",
    "\n",
    "Classifier = NaiveBayesClassifier(training_set)\n",
    "print(Classifier.classify(sen2))"
   ]
  },
  {
   "cell_type": "code",
   "execution_count": 10,
   "metadata": {},
   "outputs": [
    {
     "name": "stdout",
     "output_type": "stream",
     "text": [
      "entertainment\n"
     ]
    }
   ],
   "source": [
    "sen3 = \"Paul Walker’s daughter Meadow shares emotional post on his birth anniversary\"\n",
    "\n",
    "Classifier = NaiveBayesClassifier(training_set)\n",
    "print(Classifier.classify(sen3))"
   ]
  },
  {
   "cell_type": "code",
   "execution_count": 11,
   "metadata": {},
   "outputs": [
    {
     "name": "stdout",
     "output_type": "stream",
     "text": [
      "politics\n"
     ]
    }
   ],
   "source": [
    "sen4 = \"New Zealand’s Ardern To Open Border To Foreign Workers If Re-Elected\"\n",
    "\n",
    "Classifier = NaiveBayesClassifier(training_set)\n",
    "print(Classifier.classify(sen4))"
   ]
  },
  {
   "cell_type": "code",
   "execution_count": 12,
   "metadata": {},
   "outputs": [
    {
     "name": "stdout",
     "output_type": "stream",
     "text": [
      "Tech\n"
     ]
    }
   ],
   "source": [
    "sen5 = \"Jio Fiber to Restrict Broadband Speed to 1Mbps if Users Cross Data Cap: Report\"\n",
    "\n",
    "Classifier = NaiveBayesClassifier(training_set)\n",
    "print(Classifier.classify(sen5))"
   ]
  },
  {
   "cell_type": "code",
   "execution_count": null,
   "metadata": {},
   "outputs": [],
   "source": []
  },
  {
   "cell_type": "code",
   "execution_count": null,
   "metadata": {},
   "outputs": [],
   "source": []
  },
  {
   "cell_type": "code",
   "execution_count": null,
   "metadata": {},
   "outputs": [],
   "source": []
  },
  {
   "cell_type": "code",
   "execution_count": null,
   "metadata": {},
   "outputs": [],
   "source": []
  },
  {
   "cell_type": "markdown",
   "metadata": {},
   "source": [
    "## 3. Use the following dataset to train the model.\n",
    "https://www.kaggle.com/shivamkushwaha/bbc-full-text-document-classification"
   ]
  },
  {
   "cell_type": "code",
   "execution_count": 13,
   "metadata": {},
   "outputs": [],
   "source": [
    "\n",
    "import csv\n",
    "import os\n",
    "from os import path, walk\n",
    "import pandas as pd"
   ]
  },
  {
   "cell_type": "code",
   "execution_count": 14,
   "metadata": {},
   "outputs": [],
   "source": [
    "# creating a list containing all folder names of the dataset\n",
    "folders = [\"business\",\"entertainment\",\"politics\",\"sport\",\"tech\"]"
   ]
  },
  {
   "cell_type": "code",
   "execution_count": 15,
   "metadata": {},
   "outputs": [
    {
     "name": "stdout",
     "output_type": "stream",
     "text": [
      "C:\\Users\\infom\\Downloads\\NIELIT\\Assignment 10\\bbc\n"
     ]
    }
   ],
   "source": [
    "# Verifying whether the current directory changed to the desier directory or not\n",
    "print(os.getcwd())"
   ]
  },
  {
   "cell_type": "code",
   "execution_count": 13,
   "metadata": {},
   "outputs": [],
   "source": [
    "# generating  a list call paths containg all the detailed paths for accessing the folders of the dataset \n",
    "paths = []\n",
    "for i in folders:\n",
    "    paths.append(os.getcwd()+'/'+i)"
   ]
  },
  {
   "cell_type": "code",
   "execution_count": 14,
   "metadata": {},
   "outputs": [
    {
     "name": "stdout",
     "output_type": "stream",
     "text": [
      "['C:\\\\Users\\\\infom\\\\Downloads\\\\NIELIT\\\\Assignment 10\\\\bbc/business', 'C:\\\\Users\\\\infom\\\\Downloads\\\\NIELIT\\\\Assignment 10\\\\bbc/entertainment', 'C:\\\\Users\\\\infom\\\\Downloads\\\\NIELIT\\\\Assignment 10\\\\bbc/politics', 'C:\\\\Users\\\\infom\\\\Downloads\\\\NIELIT\\\\Assignment 10\\\\bbc/sport', 'C:\\\\Users\\\\infom\\\\Downloads\\\\NIELIT\\\\Assignment 10\\\\bbc/tech']\n"
     ]
    }
   ],
   "source": [
    "# printing the path just for verification\n",
    "print(paths)"
   ]
  },
  {
   "cell_type": "code",
   "execution_count": 15,
   "metadata": {},
   "outputs": [],
   "source": [
    "# creating two list texts and labels to store the detailed content and\n",
    "# and the category of the news\n",
    "texts = []\n",
    "labels = []"
   ]
  },
  {
   "cell_type": "code",
   "execution_count": 16,
   "metadata": {},
   "outputs": [],
   "source": [
    "# getting the path of a folders one by one from the list called paths[]\n",
    "for path in paths:\n",
    "#     getting filenames one by one from the list of all files under a directory called path\n",
    "    for filename in os.listdir(path):\n",
    "#         opening the file in read only mode with encoding latin1\n",
    "        with open(path+\"/\"+filename,\"r\", encoding = \"latin\") as file:\n",
    "#             after reading the file contents are stored in a variable called data\n",
    "            data = file.read()\n",
    "#             after removing all newline characters and carriage return from the  data,\n",
    "#             it is being added at the end of the list texts\n",
    "            data = data.replace(\"\\n\",\" \").replace('\\r','')\n",
    "            texts.append(data)\n",
    "            file.close() # file is being closed\n",
    "#         setting the category of the news as the folder name in which it reside  \n",
    "        labels.append(os.path.basename(path)) # from the whole path basename only returns the folder name"
   ]
  },
  {
   "cell_type": "code",
   "execution_count": 17,
   "metadata": {},
   "outputs": [],
   "source": [
    "# creating a pandas dataframe from two lists texts and labels as two columns\n",
    "df = pd.DataFrame({'texts':texts,'labels':labels})"
   ]
  },
  {
   "cell_type": "code",
   "execution_count": 18,
   "metadata": {},
   "outputs": [
    {
     "data": {
      "text/html": [
       "<div>\n",
       "<style scoped>\n",
       "    .dataframe tbody tr th:only-of-type {\n",
       "        vertical-align: middle;\n",
       "    }\n",
       "\n",
       "    .dataframe tbody tr th {\n",
       "        vertical-align: top;\n",
       "    }\n",
       "\n",
       "    .dataframe thead th {\n",
       "        text-align: right;\n",
       "    }\n",
       "</style>\n",
       "<table border=\"1\" class=\"dataframe\">\n",
       "  <thead>\n",
       "    <tr style=\"text-align: right;\">\n",
       "      <th></th>\n",
       "      <th>texts</th>\n",
       "      <th>labels</th>\n",
       "    </tr>\n",
       "  </thead>\n",
       "  <tbody>\n",
       "    <tr>\n",
       "      <th>0</th>\n",
       "      <td>Ad sales boost Time Warner profit  Quarterly p...</td>\n",
       "      <td>business</td>\n",
       "    </tr>\n",
       "    <tr>\n",
       "      <th>1</th>\n",
       "      <td>Dollar gains on Greenspan speech  The dollar h...</td>\n",
       "      <td>business</td>\n",
       "    </tr>\n",
       "    <tr>\n",
       "      <th>2</th>\n",
       "      <td>Yukos unit buyer faces loan claim  The owners ...</td>\n",
       "      <td>business</td>\n",
       "    </tr>\n",
       "    <tr>\n",
       "      <th>3</th>\n",
       "      <td>High fuel prices hit BA's profits  British Air...</td>\n",
       "      <td>business</td>\n",
       "    </tr>\n",
       "    <tr>\n",
       "      <th>4</th>\n",
       "      <td>Pernod takeover talk lifts Domecq  Shares in U...</td>\n",
       "      <td>business</td>\n",
       "    </tr>\n",
       "    <tr>\n",
       "      <th>...</th>\n",
       "      <td>...</td>\n",
       "      <td>...</td>\n",
       "    </tr>\n",
       "    <tr>\n",
       "      <th>2220</th>\n",
       "      <td>BT program to beat dialler scams  BT is introd...</td>\n",
       "      <td>tech</td>\n",
       "    </tr>\n",
       "    <tr>\n",
       "      <th>2221</th>\n",
       "      <td>Spam e-mails tempt net shoppers  Computer user...</td>\n",
       "      <td>tech</td>\n",
       "    </tr>\n",
       "    <tr>\n",
       "      <th>2222</th>\n",
       "      <td>Be careful how you code  A new European direct...</td>\n",
       "      <td>tech</td>\n",
       "    </tr>\n",
       "    <tr>\n",
       "      <th>2223</th>\n",
       "      <td>US cyber security chief resigns  The man makin...</td>\n",
       "      <td>tech</td>\n",
       "    </tr>\n",
       "    <tr>\n",
       "      <th>2224</th>\n",
       "      <td>Losing yourself in online gaming  Online role ...</td>\n",
       "      <td>tech</td>\n",
       "    </tr>\n",
       "  </tbody>\n",
       "</table>\n",
       "<p>2225 rows × 2 columns</p>\n",
       "</div>"
      ],
      "text/plain": [
       "                                                  texts    labels\n",
       "0     Ad sales boost Time Warner profit  Quarterly p...  business\n",
       "1     Dollar gains on Greenspan speech  The dollar h...  business\n",
       "2     Yukos unit buyer faces loan claim  The owners ...  business\n",
       "3     High fuel prices hit BA's profits  British Air...  business\n",
       "4     Pernod takeover talk lifts Domecq  Shares in U...  business\n",
       "...                                                 ...       ...\n",
       "2220  BT program to beat dialler scams  BT is introd...      tech\n",
       "2221  Spam e-mails tempt net shoppers  Computer user...      tech\n",
       "2222  Be careful how you code  A new European direct...      tech\n",
       "2223  US cyber security chief resigns  The man makin...      tech\n",
       "2224  Losing yourself in online gaming  Online role ...      tech\n",
       "\n",
       "[2225 rows x 2 columns]"
      ]
     },
     "execution_count": 18,
     "metadata": {},
     "output_type": "execute_result"
    }
   ],
   "source": [
    "# Printing the data frame for verification purpose\n",
    "df"
   ]
  },
  {
   "cell_type": "code",
   "execution_count": 19,
   "metadata": {},
   "outputs": [
    {
     "data": {
      "text/plain": [
       "sport            511\n",
       "business         510\n",
       "politics         417\n",
       "tech             401\n",
       "entertainment    386\n",
       "Name: labels, dtype: int64"
      ]
     },
     "execution_count": 19,
     "metadata": {},
     "output_type": "execute_result"
    }
   ],
   "source": [
    "df['labels'].value_counts()"
   ]
  },
  {
   "cell_type": "code",
   "execution_count": 20,
   "metadata": {},
   "outputs": [
    {
     "data": {
      "text/html": [
       "<div>\n",
       "<style scoped>\n",
       "    .dataframe tbody tr th:only-of-type {\n",
       "        vertical-align: middle;\n",
       "    }\n",
       "\n",
       "    .dataframe tbody tr th {\n",
       "        vertical-align: top;\n",
       "    }\n",
       "\n",
       "    .dataframe thead th {\n",
       "        text-align: right;\n",
       "    }\n",
       "</style>\n",
       "<table border=\"1\" class=\"dataframe\">\n",
       "  <thead>\n",
       "    <tr style=\"text-align: right;\">\n",
       "      <th></th>\n",
       "      <th>texts</th>\n",
       "      <th>labels</th>\n",
       "    </tr>\n",
       "  </thead>\n",
       "  <tbody>\n",
       "    <tr>\n",
       "      <th>0</th>\n",
       "      <td>Ad sales boost Time Warner profit  Quarterly p...</td>\n",
       "      <td>0</td>\n",
       "    </tr>\n",
       "    <tr>\n",
       "      <th>1</th>\n",
       "      <td>Dollar gains on Greenspan speech  The dollar h...</td>\n",
       "      <td>0</td>\n",
       "    </tr>\n",
       "    <tr>\n",
       "      <th>2</th>\n",
       "      <td>Yukos unit buyer faces loan claim  The owners ...</td>\n",
       "      <td>0</td>\n",
       "    </tr>\n",
       "    <tr>\n",
       "      <th>3</th>\n",
       "      <td>High fuel prices hit BA's profits  British Air...</td>\n",
       "      <td>0</td>\n",
       "    </tr>\n",
       "    <tr>\n",
       "      <th>4</th>\n",
       "      <td>Pernod takeover talk lifts Domecq  Shares in U...</td>\n",
       "      <td>0</td>\n",
       "    </tr>\n",
       "    <tr>\n",
       "      <th>...</th>\n",
       "      <td>...</td>\n",
       "      <td>...</td>\n",
       "    </tr>\n",
       "    <tr>\n",
       "      <th>2220</th>\n",
       "      <td>BT program to beat dialler scams  BT is introd...</td>\n",
       "      <td>4</td>\n",
       "    </tr>\n",
       "    <tr>\n",
       "      <th>2221</th>\n",
       "      <td>Spam e-mails tempt net shoppers  Computer user...</td>\n",
       "      <td>4</td>\n",
       "    </tr>\n",
       "    <tr>\n",
       "      <th>2222</th>\n",
       "      <td>Be careful how you code  A new European direct...</td>\n",
       "      <td>4</td>\n",
       "    </tr>\n",
       "    <tr>\n",
       "      <th>2223</th>\n",
       "      <td>US cyber security chief resigns  The man makin...</td>\n",
       "      <td>4</td>\n",
       "    </tr>\n",
       "    <tr>\n",
       "      <th>2224</th>\n",
       "      <td>Losing yourself in online gaming  Online role ...</td>\n",
       "      <td>4</td>\n",
       "    </tr>\n",
       "  </tbody>\n",
       "</table>\n",
       "<p>2225 rows × 2 columns</p>\n",
       "</div>"
      ],
      "text/plain": [
       "                                                  texts  labels\n",
       "0     Ad sales boost Time Warner profit  Quarterly p...       0\n",
       "1     Dollar gains on Greenspan speech  The dollar h...       0\n",
       "2     Yukos unit buyer faces loan claim  The owners ...       0\n",
       "3     High fuel prices hit BA's profits  British Air...       0\n",
       "4     Pernod takeover talk lifts Domecq  Shares in U...       0\n",
       "...                                                 ...     ...\n",
       "2220  BT program to beat dialler scams  BT is introd...       4\n",
       "2221  Spam e-mails tempt net shoppers  Computer user...       4\n",
       "2222  Be careful how you code  A new European direct...       4\n",
       "2223  US cyber security chief resigns  The man makin...       4\n",
       "2224  Losing yourself in online gaming  Online role ...       4\n",
       "\n",
       "[2225 rows x 2 columns]"
      ]
     },
     "execution_count": 20,
     "metadata": {},
     "output_type": "execute_result"
    }
   ],
   "source": [
    "# lable encoding for lables\n",
    "from sklearn.preprocessing import LabelEncoder\n",
    "\n",
    "encoder = LabelEncoder()\n",
    "df[\"labels\"] = encoder.fit_transform(df[\"labels\"])\n",
    "df"
   ]
  },
  {
   "cell_type": "code",
   "execution_count": 21,
   "metadata": {},
   "outputs": [
    {
     "data": {
      "text/plain": [
       "((1780, 29421), (445, 29421), (1780,), (445,))"
      ]
     },
     "execution_count": 21,
     "metadata": {},
     "output_type": "execute_result"
    }
   ],
   "source": [
    "from sklearn.feature_extraction.text import TfidfVectorizer, CountVectorizer\n",
    "from sklearn.model_selection import train_test_split\n",
    "\n",
    "# count vector for text\n",
    "count_vect = CountVectorizer(analyzer = \"word\")\n",
    "count_vec_X = count_vect.fit_transform(df[\"texts\"])\n",
    "\n",
    "cvtrain_x,cvtest_x,cvtrain_y,cvtest_y = train_test_split(count_vec_X,df[\"labels\"],test_size = 0.2)\n",
    "\n",
    "cvtrain_x.shape,cvtest_x.shape,cvtrain_y.shape,cvtest_y.shape"
   ]
  },
  {
   "cell_type": "code",
   "execution_count": 22,
   "metadata": {},
   "outputs": [
    {
     "data": {
      "text/plain": [
       "((1780, 5000), (445, 5000), (1780,), (445,))"
      ]
     },
     "execution_count": 22,
     "metadata": {},
     "output_type": "execute_result"
    }
   ],
   "source": [
    "# tfidf vector for text on word level\n",
    "tfidf_obj = TfidfVectorizer(analyzer = \"word\", max_features = 5000)\n",
    "tfidf_vec_X = tfidf_obj.fit_transform(df[\"texts\"])\n",
    "tfidf_train_x,tfidf_test_x,tfidf_train_y,tfidf_test_y = train_test_split(tfidf_vec_X,df[\"labels\"],test_size = 0.2)\n",
    "\n",
    "tfidf_train_x.shape,tfidf_test_x.shape,tfidf_train_y.shape,tfidf_test_y.shape"
   ]
  },
  {
   "cell_type": "code",
   "execution_count": null,
   "metadata": {},
   "outputs": [],
   "source": []
  },
  {
   "cell_type": "markdown",
   "metadata": {},
   "source": [
    "## 4. Draw a bar graph denoting the positive , negative , neutral news items from any 25 news items in the above link."
   ]
  },
  {
   "cell_type": "code",
   "execution_count": 23,
   "metadata": {},
   "outputs": [
    {
     "data": {
      "text/html": [
       "<div>\n",
       "<style scoped>\n",
       "    .dataframe tbody tr th:only-of-type {\n",
       "        vertical-align: middle;\n",
       "    }\n",
       "\n",
       "    .dataframe tbody tr th {\n",
       "        vertical-align: top;\n",
       "    }\n",
       "\n",
       "    .dataframe thead th {\n",
       "        text-align: right;\n",
       "    }\n",
       "</style>\n",
       "<table border=\"1\" class=\"dataframe\">\n",
       "  <thead>\n",
       "    <tr style=\"text-align: right;\">\n",
       "      <th></th>\n",
       "      <th>texts</th>\n",
       "      <th>labels</th>\n",
       "      <th>polarity</th>\n",
       "    </tr>\n",
       "  </thead>\n",
       "  <tbody>\n",
       "    <tr>\n",
       "      <th>0</th>\n",
       "      <td>Ad sales boost Time Warner profit  Quarterly p...</td>\n",
       "      <td>0</td>\n",
       "      <td>0.135920</td>\n",
       "    </tr>\n",
       "    <tr>\n",
       "      <th>1</th>\n",
       "      <td>Dollar gains on Greenspan speech  The dollar h...</td>\n",
       "      <td>0</td>\n",
       "      <td>0.083193</td>\n",
       "    </tr>\n",
       "    <tr>\n",
       "      <th>2</th>\n",
       "      <td>Yukos unit buyer faces loan claim  The owners ...</td>\n",
       "      <td>0</td>\n",
       "      <td>-0.003889</td>\n",
       "    </tr>\n",
       "    <tr>\n",
       "      <th>3</th>\n",
       "      <td>High fuel prices hit BA's profits  British Air...</td>\n",
       "      <td>0</td>\n",
       "      <td>0.154193</td>\n",
       "    </tr>\n",
       "    <tr>\n",
       "      <th>4</th>\n",
       "      <td>Pernod takeover talk lifts Domecq  Shares in U...</td>\n",
       "      <td>0</td>\n",
       "      <td>0.025735</td>\n",
       "    </tr>\n",
       "    <tr>\n",
       "      <th>5</th>\n",
       "      <td>Japan narrowly escapes recession  Japan's econ...</td>\n",
       "      <td>0</td>\n",
       "      <td>-0.049444</td>\n",
       "    </tr>\n",
       "    <tr>\n",
       "      <th>6</th>\n",
       "      <td>Jobs growth still slow in the US  The US creat...</td>\n",
       "      <td>0</td>\n",
       "      <td>0.037211</td>\n",
       "    </tr>\n",
       "    <tr>\n",
       "      <th>7</th>\n",
       "      <td>India calls for fair trade rules  India, which...</td>\n",
       "      <td>0</td>\n",
       "      <td>0.106856</td>\n",
       "    </tr>\n",
       "    <tr>\n",
       "      <th>8</th>\n",
       "      <td>Ethiopia's crop production up 24%  Ethiopia pr...</td>\n",
       "      <td>0</td>\n",
       "      <td>0.106818</td>\n",
       "    </tr>\n",
       "    <tr>\n",
       "      <th>9</th>\n",
       "      <td>Court rejects $280bn tobacco case  A US govern...</td>\n",
       "      <td>0</td>\n",
       "      <td>-0.016667</td>\n",
       "    </tr>\n",
       "    <tr>\n",
       "      <th>10</th>\n",
       "      <td>Ask Jeeves tips online ad revival  Ask Jeeves ...</td>\n",
       "      <td>0</td>\n",
       "      <td>-0.040556</td>\n",
       "    </tr>\n",
       "    <tr>\n",
       "      <th>11</th>\n",
       "      <td>Indonesians face fuel price rise  Indonesia's ...</td>\n",
       "      <td>0</td>\n",
       "      <td>0.037988</td>\n",
       "    </tr>\n",
       "    <tr>\n",
       "      <th>12</th>\n",
       "      <td>Peugeot deal boosts Mitsubishi  Struggling Jap...</td>\n",
       "      <td>0</td>\n",
       "      <td>-0.004211</td>\n",
       "    </tr>\n",
       "    <tr>\n",
       "      <th>13</th>\n",
       "      <td>Telegraph newspapers axe 90 jobs  The Daily an...</td>\n",
       "      <td>0</td>\n",
       "      <td>0.111052</td>\n",
       "    </tr>\n",
       "    <tr>\n",
       "      <th>14</th>\n",
       "      <td>Air passengers win new EU rights  Air passenge...</td>\n",
       "      <td>0</td>\n",
       "      <td>0.023405</td>\n",
       "    </tr>\n",
       "    <tr>\n",
       "      <th>15</th>\n",
       "      <td>China keeps tight rein on credit  China's effo...</td>\n",
       "      <td>0</td>\n",
       "      <td>0.070233</td>\n",
       "    </tr>\n",
       "    <tr>\n",
       "      <th>16</th>\n",
       "      <td>Parmalat boasts doubled profits  Parmalat, the...</td>\n",
       "      <td>0</td>\n",
       "      <td>0.007738</td>\n",
       "    </tr>\n",
       "    <tr>\n",
       "      <th>17</th>\n",
       "      <td>India's rupee hits five-year high  India's rup...</td>\n",
       "      <td>0</td>\n",
       "      <td>-0.002775</td>\n",
       "    </tr>\n",
       "    <tr>\n",
       "      <th>18</th>\n",
       "      <td>India widens access to telecoms  India has rai...</td>\n",
       "      <td>0</td>\n",
       "      <td>0.021364</td>\n",
       "    </tr>\n",
       "    <tr>\n",
       "      <th>19</th>\n",
       "      <td>Call centre users 'lose patience'  Customers t...</td>\n",
       "      <td>0</td>\n",
       "      <td>0.059552</td>\n",
       "    </tr>\n",
       "    <tr>\n",
       "      <th>20</th>\n",
       "      <td>Rank 'set to sell off film unit'  Leisure grou...</td>\n",
       "      <td>0</td>\n",
       "      <td>-0.007262</td>\n",
       "    </tr>\n",
       "    <tr>\n",
       "      <th>21</th>\n",
       "      <td>Sluggish economy hits German jobs  The number ...</td>\n",
       "      <td>0</td>\n",
       "      <td>0.078945</td>\n",
       "    </tr>\n",
       "    <tr>\n",
       "      <th>22</th>\n",
       "      <td>Mixed signals from French economy  The French ...</td>\n",
       "      <td>0</td>\n",
       "      <td>0.192121</td>\n",
       "    </tr>\n",
       "    <tr>\n",
       "      <th>23</th>\n",
       "      <td>US trade gap hits record in 2004  The gap betw...</td>\n",
       "      <td>0</td>\n",
       "      <td>0.091757</td>\n",
       "    </tr>\n",
       "    <tr>\n",
       "      <th>24</th>\n",
       "      <td>Yukos loses US bankruptcy battle  A judge has ...</td>\n",
       "      <td>0</td>\n",
       "      <td>0.015570</td>\n",
       "    </tr>\n",
       "  </tbody>\n",
       "</table>\n",
       "</div>"
      ],
      "text/plain": [
       "                                                texts  labels  polarity\n",
       "0   Ad sales boost Time Warner profit  Quarterly p...       0  0.135920\n",
       "1   Dollar gains on Greenspan speech  The dollar h...       0  0.083193\n",
       "2   Yukos unit buyer faces loan claim  The owners ...       0 -0.003889\n",
       "3   High fuel prices hit BA's profits  British Air...       0  0.154193\n",
       "4   Pernod takeover talk lifts Domecq  Shares in U...       0  0.025735\n",
       "5   Japan narrowly escapes recession  Japan's econ...       0 -0.049444\n",
       "6   Jobs growth still slow in the US  The US creat...       0  0.037211\n",
       "7   India calls for fair trade rules  India, which...       0  0.106856\n",
       "8   Ethiopia's crop production up 24%  Ethiopia pr...       0  0.106818\n",
       "9   Court rejects $280bn tobacco case  A US govern...       0 -0.016667\n",
       "10  Ask Jeeves tips online ad revival  Ask Jeeves ...       0 -0.040556\n",
       "11  Indonesians face fuel price rise  Indonesia's ...       0  0.037988\n",
       "12  Peugeot deal boosts Mitsubishi  Struggling Jap...       0 -0.004211\n",
       "13  Telegraph newspapers axe 90 jobs  The Daily an...       0  0.111052\n",
       "14  Air passengers win new EU rights  Air passenge...       0  0.023405\n",
       "15  China keeps tight rein on credit  China's effo...       0  0.070233\n",
       "16  Parmalat boasts doubled profits  Parmalat, the...       0  0.007738\n",
       "17  India's rupee hits five-year high  India's rup...       0 -0.002775\n",
       "18  India widens access to telecoms  India has rai...       0  0.021364\n",
       "19  Call centre users 'lose patience'  Customers t...       0  0.059552\n",
       "20  Rank 'set to sell off film unit'  Leisure grou...       0 -0.007262\n",
       "21  Sluggish economy hits German jobs  The number ...       0  0.078945\n",
       "22  Mixed signals from French economy  The French ...       0  0.192121\n",
       "23  US trade gap hits record in 2004  The gap betw...       0  0.091757\n",
       "24  Yukos loses US bankruptcy battle  A judge has ...       0  0.015570"
      ]
     },
     "execution_count": 23,
     "metadata": {},
     "output_type": "execute_result"
    }
   ],
   "source": [
    "from textblob import TextBlob\n",
    "\n",
    "\n",
    "df['polarity'] = df['texts'].apply(lambda tweet: TextBlob(tweet).sentiment.polarity)\n",
    "\n",
    "df.head(25)"
   ]
  },
  {
   "cell_type": "code",
   "execution_count": 28,
   "metadata": {},
   "outputs": [],
   "source": [
    "l=[]\n",
    "for i in range(len(df)):\n",
    "    \n",
    "    if df['polarity'][i] ==0:\n",
    "        l.append(0)\n",
    "    elif df['polarity'][i]<0:\n",
    "        l.append(-1)\n",
    "    else:\n",
    "        l.append(1)\n",
    "        \n",
    "df['polarity']=l"
   ]
  },
  {
   "cell_type": "code",
   "execution_count": 29,
   "metadata": {},
   "outputs": [
    {
     "data": {
      "text/html": [
       "<div>\n",
       "<style scoped>\n",
       "    .dataframe tbody tr th:only-of-type {\n",
       "        vertical-align: middle;\n",
       "    }\n",
       "\n",
       "    .dataframe tbody tr th {\n",
       "        vertical-align: top;\n",
       "    }\n",
       "\n",
       "    .dataframe thead th {\n",
       "        text-align: right;\n",
       "    }\n",
       "</style>\n",
       "<table border=\"1\" class=\"dataframe\">\n",
       "  <thead>\n",
       "    <tr style=\"text-align: right;\">\n",
       "      <th></th>\n",
       "      <th>texts</th>\n",
       "      <th>labels</th>\n",
       "      <th>polarity</th>\n",
       "    </tr>\n",
       "  </thead>\n",
       "  <tbody>\n",
       "    <tr>\n",
       "      <th>0</th>\n",
       "      <td>Ad sales boost Time Warner profit  Quarterly p...</td>\n",
       "      <td>0</td>\n",
       "      <td>1</td>\n",
       "    </tr>\n",
       "    <tr>\n",
       "      <th>1</th>\n",
       "      <td>Dollar gains on Greenspan speech  The dollar h...</td>\n",
       "      <td>0</td>\n",
       "      <td>1</td>\n",
       "    </tr>\n",
       "    <tr>\n",
       "      <th>2</th>\n",
       "      <td>Yukos unit buyer faces loan claim  The owners ...</td>\n",
       "      <td>0</td>\n",
       "      <td>-1</td>\n",
       "    </tr>\n",
       "    <tr>\n",
       "      <th>3</th>\n",
       "      <td>High fuel prices hit BA's profits  British Air...</td>\n",
       "      <td>0</td>\n",
       "      <td>1</td>\n",
       "    </tr>\n",
       "    <tr>\n",
       "      <th>4</th>\n",
       "      <td>Pernod takeover talk lifts Domecq  Shares in U...</td>\n",
       "      <td>0</td>\n",
       "      <td>1</td>\n",
       "    </tr>\n",
       "    <tr>\n",
       "      <th>5</th>\n",
       "      <td>Japan narrowly escapes recession  Japan's econ...</td>\n",
       "      <td>0</td>\n",
       "      <td>-1</td>\n",
       "    </tr>\n",
       "    <tr>\n",
       "      <th>6</th>\n",
       "      <td>Jobs growth still slow in the US  The US creat...</td>\n",
       "      <td>0</td>\n",
       "      <td>1</td>\n",
       "    </tr>\n",
       "    <tr>\n",
       "      <th>7</th>\n",
       "      <td>India calls for fair trade rules  India, which...</td>\n",
       "      <td>0</td>\n",
       "      <td>1</td>\n",
       "    </tr>\n",
       "    <tr>\n",
       "      <th>8</th>\n",
       "      <td>Ethiopia's crop production up 24%  Ethiopia pr...</td>\n",
       "      <td>0</td>\n",
       "      <td>1</td>\n",
       "    </tr>\n",
       "    <tr>\n",
       "      <th>9</th>\n",
       "      <td>Court rejects $280bn tobacco case  A US govern...</td>\n",
       "      <td>0</td>\n",
       "      <td>-1</td>\n",
       "    </tr>\n",
       "    <tr>\n",
       "      <th>10</th>\n",
       "      <td>Ask Jeeves tips online ad revival  Ask Jeeves ...</td>\n",
       "      <td>0</td>\n",
       "      <td>-1</td>\n",
       "    </tr>\n",
       "    <tr>\n",
       "      <th>11</th>\n",
       "      <td>Indonesians face fuel price rise  Indonesia's ...</td>\n",
       "      <td>0</td>\n",
       "      <td>1</td>\n",
       "    </tr>\n",
       "    <tr>\n",
       "      <th>12</th>\n",
       "      <td>Peugeot deal boosts Mitsubishi  Struggling Jap...</td>\n",
       "      <td>0</td>\n",
       "      <td>-1</td>\n",
       "    </tr>\n",
       "    <tr>\n",
       "      <th>13</th>\n",
       "      <td>Telegraph newspapers axe 90 jobs  The Daily an...</td>\n",
       "      <td>0</td>\n",
       "      <td>1</td>\n",
       "    </tr>\n",
       "    <tr>\n",
       "      <th>14</th>\n",
       "      <td>Air passengers win new EU rights  Air passenge...</td>\n",
       "      <td>0</td>\n",
       "      <td>1</td>\n",
       "    </tr>\n",
       "    <tr>\n",
       "      <th>15</th>\n",
       "      <td>China keeps tight rein on credit  China's effo...</td>\n",
       "      <td>0</td>\n",
       "      <td>1</td>\n",
       "    </tr>\n",
       "    <tr>\n",
       "      <th>16</th>\n",
       "      <td>Parmalat boasts doubled profits  Parmalat, the...</td>\n",
       "      <td>0</td>\n",
       "      <td>1</td>\n",
       "    </tr>\n",
       "    <tr>\n",
       "      <th>17</th>\n",
       "      <td>India's rupee hits five-year high  India's rup...</td>\n",
       "      <td>0</td>\n",
       "      <td>-1</td>\n",
       "    </tr>\n",
       "    <tr>\n",
       "      <th>18</th>\n",
       "      <td>India widens access to telecoms  India has rai...</td>\n",
       "      <td>0</td>\n",
       "      <td>1</td>\n",
       "    </tr>\n",
       "    <tr>\n",
       "      <th>19</th>\n",
       "      <td>Call centre users 'lose patience'  Customers t...</td>\n",
       "      <td>0</td>\n",
       "      <td>1</td>\n",
       "    </tr>\n",
       "    <tr>\n",
       "      <th>20</th>\n",
       "      <td>Rank 'set to sell off film unit'  Leisure grou...</td>\n",
       "      <td>0</td>\n",
       "      <td>-1</td>\n",
       "    </tr>\n",
       "    <tr>\n",
       "      <th>21</th>\n",
       "      <td>Sluggish economy hits German jobs  The number ...</td>\n",
       "      <td>0</td>\n",
       "      <td>1</td>\n",
       "    </tr>\n",
       "    <tr>\n",
       "      <th>22</th>\n",
       "      <td>Mixed signals from French economy  The French ...</td>\n",
       "      <td>0</td>\n",
       "      <td>1</td>\n",
       "    </tr>\n",
       "    <tr>\n",
       "      <th>23</th>\n",
       "      <td>US trade gap hits record in 2004  The gap betw...</td>\n",
       "      <td>0</td>\n",
       "      <td>1</td>\n",
       "    </tr>\n",
       "    <tr>\n",
       "      <th>24</th>\n",
       "      <td>Yukos loses US bankruptcy battle  A judge has ...</td>\n",
       "      <td>0</td>\n",
       "      <td>1</td>\n",
       "    </tr>\n",
       "  </tbody>\n",
       "</table>\n",
       "</div>"
      ],
      "text/plain": [
       "                                                texts  labels  polarity\n",
       "0   Ad sales boost Time Warner profit  Quarterly p...       0         1\n",
       "1   Dollar gains on Greenspan speech  The dollar h...       0         1\n",
       "2   Yukos unit buyer faces loan claim  The owners ...       0        -1\n",
       "3   High fuel prices hit BA's profits  British Air...       0         1\n",
       "4   Pernod takeover talk lifts Domecq  Shares in U...       0         1\n",
       "5   Japan narrowly escapes recession  Japan's econ...       0        -1\n",
       "6   Jobs growth still slow in the US  The US creat...       0         1\n",
       "7   India calls for fair trade rules  India, which...       0         1\n",
       "8   Ethiopia's crop production up 24%  Ethiopia pr...       0         1\n",
       "9   Court rejects $280bn tobacco case  A US govern...       0        -1\n",
       "10  Ask Jeeves tips online ad revival  Ask Jeeves ...       0        -1\n",
       "11  Indonesians face fuel price rise  Indonesia's ...       0         1\n",
       "12  Peugeot deal boosts Mitsubishi  Struggling Jap...       0        -1\n",
       "13  Telegraph newspapers axe 90 jobs  The Daily an...       0         1\n",
       "14  Air passengers win new EU rights  Air passenge...       0         1\n",
       "15  China keeps tight rein on credit  China's effo...       0         1\n",
       "16  Parmalat boasts doubled profits  Parmalat, the...       0         1\n",
       "17  India's rupee hits five-year high  India's rup...       0        -1\n",
       "18  India widens access to telecoms  India has rai...       0         1\n",
       "19  Call centre users 'lose patience'  Customers t...       0         1\n",
       "20  Rank 'set to sell off film unit'  Leisure grou...       0        -1\n",
       "21  Sluggish economy hits German jobs  The number ...       0         1\n",
       "22  Mixed signals from French economy  The French ...       0         1\n",
       "23  US trade gap hits record in 2004  The gap betw...       0         1\n",
       "24  Yukos loses US bankruptcy battle  A judge has ...       0         1"
      ]
     },
     "execution_count": 29,
     "metadata": {},
     "output_type": "execute_result"
    }
   ],
   "source": [
    "df.head(25)"
   ]
  },
  {
   "cell_type": "code",
   "execution_count": 31,
   "metadata": {},
   "outputs": [],
   "source": [
    "values = df['polarity'].value_counts()"
   ]
  },
  {
   "cell_type": "code",
   "execution_count": 32,
   "metadata": {},
   "outputs": [
    {
     "data": {
      "image/png": "[encoded data removed]",
      "text/plain": [
       "<Figure size 432x288 with 1 Axes>"
      ]
     },
     "metadata": {
      "needs_background": "light"
     },
     "output_type": "display_data"
    }
   ],
   "source": [
    "import matplotlib.pyplot as plt\n",
    "\n",
    "\n",
    "values.plot.bar()\n",
    "plt.title('Sentiments of the news items')\n",
    "plt.ylabel('Number of Occurrences', fontsize=12)\n",
    "plt.xlabel('polarity', fontsize=12)\n",
    "plt.show()\n"
   ]
  },
  {
   "cell_type": "code",
   "execution_count": null,
   "metadata": {},
   "outputs": [],
   "source": []
  },
  {
   "cell_type": "code",
   "execution_count": null,
   "metadata": {},
   "outputs": [],
   "source": []
  },
  {
   "cell_type": "code",
   "execution_count": null,
   "metadata": {},
   "outputs": [],
   "source": []
  }
 ],
 "metadata": {
  "kernelspec": {
   "display_name": "Python 3",
   "language": "python",
   "name": "python3"
  },
  "language_info": {
   "codemirror_mode": {
    "name": "ipython",
    "version": 3
   },
   "file_extension": ".py",
   "mimetype": "text/x-python",
   "name": "python",
   "nbconvert_exporter": "python",
   "pygments_lexer": "ipython3",
   "version": "3.7.6"
  }
 },
 "nbformat": 4,
 "nbformat_minor": 4
}
